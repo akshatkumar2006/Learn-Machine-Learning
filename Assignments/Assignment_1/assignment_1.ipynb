{
 "cells": [
  {
   "cell_type": "code",
   "execution_count": null,
   "id": "8094d333",
   "metadata": {},
   "outputs": [],
   "source": [
    "class CustomError(Exception):\n",
    "    pass\n",
    "\n",
    "def custom_function():\n",
    "    raise CustomError(\"haan bhai custom error hai\")\n",
    "\n",
    "try:\n",
    "    custom_function()\n",
    "except CustomError as e:\n",
    "    print(f\"Caught an exception: {e}\")"
   ]
  },
  {
   "cell_type": "code",
   "execution_count": null,
   "id": "1c74d590",
   "metadata": {},
   "outputs": [],
   "source": [
    "# Make a 2-d array and read and write it in a csv format\n",
    "import numpy as np\n",
    "import pandas as pd\n",
    "\n",
    "arr = np.arange(1, 10, 2)\n",
    "arr\n",
    "\n",
    "with open('data.csv', 'w') as f:\n",
    "    # f.write(str(arr))\n",
    "    np.savetxt(f, arr, delimiter=',', fmt='%.0f')\n",
    "\n",
    "with open('data.csv', 'r') as f:\n",
    "    data = f.read()\n",
    "\n",
    "print(data)"
   ]
  }
 ],
 "metadata": {
  "kernelspec": {
   "display_name": "venv",
   "language": "python",
   "name": "python3"
  },
  "language_info": {
   "codemirror_mode": {
    "name": "ipython",
    "version": 3
   },
   "file_extension": ".py",
   "mimetype": "text/x-python",
   "name": "python",
   "nbconvert_exporter": "python",
   "pygments_lexer": "ipython3",
   "version": "3.12.10"
  }
 },
 "nbformat": 4,
 "nbformat_minor": 5
}
