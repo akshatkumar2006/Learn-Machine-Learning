{
 "cells": [
  {
   "cell_type": "code",
   "execution_count": 120,
   "id": "daa2598b",
   "metadata": {},
   "outputs": [],
   "source": [
    "import numpy as np\n",
    "import time"
   ]
  },
  {
   "cell_type": "code",
   "execution_count": 121,
   "id": "55193750",
   "metadata": {},
   "outputs": [
    {
     "data": {
      "text/plain": [
       "array([ 1,  2,  3,  4,  5,  6,  7,  8,  9, 10])"
      ]
     },
     "execution_count": 121,
     "metadata": {},
     "output_type": "execute_result"
    }
   ],
   "source": [
    "arr1 = np.arange(1, 11)\n",
    "arr1"
   ]
  },
  {
   "cell_type": "code",
   "execution_count": 122,
   "id": "ab56c941",
   "metadata": {},
   "outputs": [
    {
     "data": {
      "text/plain": [
       "array([[1, 2, 3],\n",
       "       [4, 5, 6],\n",
       "       [7, 8, 9]])"
      ]
     },
     "execution_count": 122,
     "metadata": {},
     "output_type": "execute_result"
    }
   ],
   "source": [
    "arr2 = np.arange(1,10).reshape((3,3))\n",
    "arr2"
   ]
  },
  {
   "cell_type": "code",
   "execution_count": 123,
   "id": "09d66acd",
   "metadata": {},
   "outputs": [
    {
     "data": {
      "text/plain": [
       "array([[[ 6.72,  3.91,  9.28],\n",
       "        [ 1.17,  8.76,  5.09],\n",
       "        [ 5.69,  6.55,  6.27],\n",
       "        [ 9.38,  2.29,  3.15],\n",
       "        [ 0.23,  2.8 ,  7.51]],\n",
       "\n",
       "       [[ 9.14,  2.  ,  0.58],\n",
       "        [ 0.54,  4.62,  9.12],\n",
       "        [ 6.54,  6.67,  1.58],\n",
       "        [ 7.17,  2.62, 10.  ],\n",
       "        [ 9.14,  1.97,  0.28]],\n",
       "\n",
       "       [[ 6.1 ,  6.43,  1.48],\n",
       "        [ 1.76,  3.1 ,  2.79],\n",
       "        [ 4.95,  5.49,  9.9 ],\n",
       "        [ 2.22,  5.73,  8.37],\n",
       "        [ 7.38,  3.34,  5.93]]])"
      ]
     },
     "execution_count": 123,
     "metadata": {},
     "output_type": "execute_result"
    }
   ],
   "source": [
    "arr3 = np.round((np.random.rand(3, 5, 3))*10, 2)\n",
    "arr3"
   ]
  },
  {
   "cell_type": "code",
   "execution_count": 124,
   "id": "c08f9fab",
   "metadata": {},
   "outputs": [
    {
     "name": "stdout",
     "output_type": "stream",
     "text": [
      "--arr1--\n",
      "10\n",
      "(10,)\n",
      "1\n",
      "int64\n",
      "8\n",
      "80\n",
      "--arr2--\n",
      "(3, 3)\n",
      "9\n",
      "2\n",
      "int64\n",
      "72\n",
      "8\n",
      "--arr3--\n",
      "45\n",
      "(3, 5, 3)\n",
      "3\n",
      "float64\n",
      "8\n",
      "360\n"
     ]
    }
   ],
   "source": [
    "print('--arr1--' )\n",
    "print(arr1.size)\n",
    "print(arr1.shape)\n",
    "print(arr1.ndim)\n",
    "print(arr1.dtype)\n",
    "print(arr1.itemsize)\n",
    "print(arr1.nbytes)\n",
    "\n",
    "print('--arr2--' )\n",
    "print(arr2.shape)\n",
    "print(arr2.size)\n",
    "print(arr2.ndim)\n",
    "print(arr2.dtype)\n",
    "print(arr2.nbytes)\n",
    "print(arr2.itemsize)\n",
    "\n",
    "print('--arr3--' )\n",
    "print(arr3.size)\n",
    "print(arr3.shape)\n",
    "print(arr3.ndim)\n",
    "print(arr3.dtype)\n",
    "print(arr3.itemsize)\n",
    "print(arr3.nbytes)"
   ]
  },
  {
   "cell_type": "code",
   "execution_count": 125,
   "id": "2c618645",
   "metadata": {},
   "outputs": [],
   "source": [
    "data = [10, 20, 30, 40, 50, 60, 70, 80, 90] \n",
    "arr4 = np.array(data)\n",
    "first_three = arr4[:3]\n",
    "alternate_elements = arr4[::2]\n",
    "reversed_array = arr4[::-1]"
   ]
  },
  {
   "cell_type": "code",
   "execution_count": 126,
   "id": "03f012e3",
   "metadata": {},
   "outputs": [
    {
     "name": "stdout",
     "output_type": "stream",
     "text": [
      "[10 20 30 40 50 60 70 80 90]\n",
      "[10 20 30]\n",
      "[10 30 50 70 90]\n",
      "[90 80 70 60 50 40 30 20 10]\n"
     ]
    }
   ],
   "source": [
    "print(arr4)\n",
    "print(first_three)\n",
    "print(alternate_elements)\n",
    "print(reversed_array)"
   ]
  },
  {
   "cell_type": "code",
   "execution_count": 127,
   "id": "c37e0433",
   "metadata": {},
   "outputs": [
    {
     "data": {
      "text/plain": [
       "(array([12,  9,  3, 17, 11], dtype=int32),\n",
       " array([15,  2, 11, 14, 17], dtype=int32))"
      ]
     },
     "execution_count": 127,
     "metadata": {},
     "output_type": "execute_result"
    }
   ],
   "source": [
    "A = np.random.randint(1, 20, 5)\n",
    "B = np.random.randint(1, 20, 5)\n",
    "A, B"
   ]
  },
  {
   "cell_type": "code",
   "execution_count": 128,
   "id": "20a5c085",
   "metadata": {},
   "outputs": [
    {
     "name": "stdout",
     "output_type": "stream",
     "text": [
      "[27 11 14 31 28]\n",
      "[-3  7 -8  3 -6]\n",
      "[180  18  33 238 187]\n",
      "[0.8        4.5        0.27272727 1.21428571 0.64705882]\n"
     ]
    }
   ],
   "source": [
    "print(A + B)\n",
    "print(A - B)\n",
    "print(A * B)\n",
    "print(A / B)"
   ]
  },
  {
   "cell_type": "code",
   "execution_count": 129,
   "id": "70e31583",
   "metadata": {},
   "outputs": [
    {
     "name": "stdout",
     "output_type": "stream",
     "text": [
      "656\n"
     ]
    }
   ],
   "source": [
    "print(np.dot(A,B))"
   ]
  },
  {
   "cell_type": "code",
   "execution_count": 130,
   "id": "6985b7cb",
   "metadata": {},
   "outputs": [
    {
     "name": "stdout",
     "output_type": "stream",
     "text": [
      "10.4\n",
      "11.0\n",
      "4.5431266766402185\n",
      "20.64\n"
     ]
    }
   ],
   "source": [
    "print(np.mean(A))\n",
    "print(np.median(A))\n",
    "print(np.std(A))\n",
    "print(np.var(A))"
   ]
  },
  {
   "cell_type": "code",
   "execution_count": 131,
   "id": "345e92b0",
   "metadata": {},
   "outputs": [
    {
     "name": "stdout",
     "output_type": "stream",
     "text": [
      "ele:\tindex\n",
      "2 (min)\t1\n",
      "17 (min)\t4\n"
     ]
    }
   ],
   "source": [
    "print('ele:', 'index', sep='\\t')\n",
    "print(f'{np.min(B)} (min)', np.argmin(B), sep='\\t')\n",
    "print(f'{np.max(B)} (min)', np.argmax(B), sep='\\t')"
   ]
  },
  {
   "cell_type": "code",
   "execution_count": 132,
   "id": "855f6509",
   "metadata": {},
   "outputs": [],
   "source": [
    "arr5 = np.arange(1, 13)"
   ]
  },
  {
   "cell_type": "code",
   "execution_count": 133,
   "id": "cb81e8ca",
   "metadata": {},
   "outputs": [
    {
     "data": {
      "text/plain": [
       "array([[[ 1,  2,  3],\n",
       "        [ 4,  5,  6]],\n",
       "\n",
       "       [[ 7,  8,  9],\n",
       "        [10, 11, 12]]])"
      ]
     },
     "execution_count": 133,
     "metadata": {},
     "output_type": "execute_result"
    }
   ],
   "source": [
    "reshaped_arr = np.reshape(arr5, (4, 3))\n",
    "np.reshape(arr5, (2, 2, 3))"
   ]
  },
  {
   "cell_type": "code",
   "execution_count": 134,
   "id": "dd857be0",
   "metadata": {},
   "outputs": [
    {
     "name": "stdout",
     "output_type": "stream",
     "text": [
      "[[ 1  4  7 10]\n",
      " [ 2  5  8 11]\n",
      " [ 3  6  9 12]]\n",
      "(4, 3)\n",
      "(3, 4)\n"
     ]
    }
   ],
   "source": [
    "transposed_arr = reshaped_arr.T\n",
    "print(transposed_arr)\n",
    "print(reshaped_arr.shape)\n",
    "print(transposed_arr.shape)"
   ]
  },
  {
   "cell_type": "code",
   "execution_count": 135,
   "id": "0d722d18",
   "metadata": {},
   "outputs": [
    {
     "data": {
      "text/plain": [
       "array([19, 28, 37, 23, 12, 25, 49, 23, 27, 33, 24, 42, 23, 28, 16],\n",
       "      dtype=int32)"
      ]
     },
     "execution_count": 135,
     "metadata": {},
     "output_type": "execute_result"
    }
   ],
   "source": [
    "arr6 = np.random.randint(10, 50, 15)\n",
    "arr6"
   ]
  },
  {
   "cell_type": "code",
   "execution_count": 136,
   "id": "873e38af",
   "metadata": {},
   "outputs": [
    {
     "name": "stdout",
     "output_type": "stream",
     "text": [
      "[28 37 49 27 33 42 28]\n",
      "[ 0  0 37  0  0  0 49  0  0 33  0 42  0  0  0]\n"
     ]
    },
    {
     "data": {
      "text/plain": [
       "(11,)"
      ]
     },
     "execution_count": 136,
     "metadata": {},
     "output_type": "execute_result"
    }
   ],
   "source": [
    "print(arr6[arr6>25])\n",
    "# print(np.where(arr6>25)) # returns indices of elements in arr6 that are greater than 25\n",
    "arr6[arr6<30] = 0\n",
    "print(arr6)\n",
    "arr6[arr6%5 == 0].shape"
   ]
  },
  {
   "cell_type": "markdown",
   "id": "2589090d",
   "metadata": {},
   "source": [
    "1. Use NumPy's built-in functions to:  \n",
    "o Create an array of 10 equally spaced values between 0 and 1. \n",
    "o Create an identity matrix of size 4x4. \n",
    "o Generate a 1D array of 20 random integers between 1 and 100, \n",
    "sort it, and find the 5 largest elements. "
   ]
  },
  {
   "cell_type": "code",
   "execution_count": 137,
   "id": "a1c2d3e2",
   "metadata": {},
   "outputs": [
    {
     "name": "stdout",
     "output_type": "stream",
     "text": [
      "[80 82 82 92 99]\n"
     ]
    }
   ],
   "source": [
    "arr7 = np.linspace(0, 1, 10)\n",
    "\n",
    "matrix_I = np.eye(4)\n",
    "\n",
    "arr8 = np.random.randint(1, 101, 20)\n",
    "\n",
    "sorted_array = np.sort(arr8)\n",
    "\n",
    "print(sorted_array[-5:])"
   ]
  },
  {
   "cell_type": "code",
   "execution_count": null,
   "id": "643e4357",
   "metadata": {},
   "outputs": [
    {
     "name": "stdout",
     "output_type": "stream",
     "text": [
      "Matrix Multiplication Time: 0.002513 seconds\n",
      "Determinant: 1.7003913518856374e+48\n",
      "Determinant Time: 0.000000 seconds\n",
      "Inverse: [[ -47.3658661    76.09983737    1.50213173 ... -241.25274832\n",
      "    25.97525494   24.05894123]\n",
      " [  34.14442136  -50.81993244   -5.62244575 ...  161.80685092\n",
      "   -16.99896732  -13.91824504]\n",
      " [  52.89760442  -80.26209388   -3.48927009 ...  257.67876326\n",
      "   -28.26565587  -22.94359957]\n",
      " ...\n",
      " [ -81.62000567  127.89880925    8.49709969 ... -405.08480055\n",
      "    43.67994931   39.72982518]\n",
      " [  67.53620852 -103.22047299   -8.21715235 ...  329.31866139\n",
      "   -36.0869253   -28.44487249]\n",
      " [ -23.53321026   35.01962253    2.35051075 ... -113.27027994\n",
      "    12.06959601    9.12446963]]\n",
      "Inverse Time: 0.311130 seconds\n"
     ]
    }
   ],
   "source": [
    "size = 100\n",
    "\n",
    "array1 = np.random.rand(size, size)\n",
    "array2 = np.random.rand(size, size)\n",
    "\n",
    "start_time = time.time()\n",
    "result_matrix = np.matmul(array1, array2)\n",
    "end_time = time.time()\n",
    "matrix_multiplication_time = end_time - start_time\n",
    "print(\"Matrix Multiplication Time: {:.6f} seconds\".format(matrix_multiplication_time))\n",
    "\n",
    "start_time = time.time()\n",
    "try:\n",
    "    determinant = np.linalg.det(result_matrix)\n",
    "except np.linalg.LinAlgError:\n",
    "    determinant = \"Not possible (matrix is singular)\"\n",
    "end_time = time.time()\n",
    "determinant_time = end_time - start_time\n",
    "print(\"Determinant: {}\".format(determinant))\n",
    "print(\"Determinant Time: {:.6f} seconds\".format(determinant_time))\n",
    "\n",
    "start_time = time.time()\n",
    "try:\n",
    "    inverse = np.linalg.inv(result_matrix)\n",
    "except np.linalg.LinAlgError:\n",
    "    inverse = \"Not possible (matrix is singular)\"\n",
    "end_time = time.time()\n",
    "inverse_time = end_time - start_time\n",
    "print(\"Inverse: {}\".format(inverse))\n",
    "print(\"Inverse Time: {:.6f} seconds\".format(inverse_time))"
   ]
  }
 ],
 "metadata": {
  "kernelspec": {
   "display_name": "venv",
   "language": "python",
   "name": "python3"
  },
  "language_info": {
   "codemirror_mode": {
    "name": "ipython",
    "version": 3
   },
   "file_extension": ".py",
   "mimetype": "text/x-python",
   "name": "python",
   "nbconvert_exporter": "python",
   "pygments_lexer": "ipython3",
   "version": "3.12.10"
  }
 },
 "nbformat": 4,
 "nbformat_minor": 5
}
