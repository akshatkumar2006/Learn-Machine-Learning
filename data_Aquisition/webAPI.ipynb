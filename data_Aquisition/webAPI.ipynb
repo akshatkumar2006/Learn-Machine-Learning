{
 "cells": [
  {
   "cell_type": "code",
   "execution_count": 2,
   "id": "fa9d41d3",
   "metadata": {},
   "outputs": [],
   "source": [
    "import requests"
   ]
  },
  {
   "cell_type": "code",
   "execution_count": 4,
   "id": "35ae2b68",
   "metadata": {},
   "outputs": [],
   "source": [
    "url = 'https://catfact.ninja/'\n",
    "response = requests.get(url + 'facts', params={'max_length' : 50, 'length' : 20})"
   ]
  },
  {
   "cell_type": "code",
   "execution_count": 5,
   "id": "f39d860e",
   "metadata": {},
   "outputs": [
    {
     "name": "stdout",
     "output_type": "stream",
     "text": [
      "{\"current_page\":1,\"data\":[{\"fact\":\"Cats have 3 eyelids.\",\"length\":20},{\"fact\":\"Cats walk on their toes.\",\"length\":24},{\"fact\":\"Most cats adore sardines.\",\"length\":25},{\"fact\":\"Cats dislike citrus scent.\",\"length\":26},{\"fact\":\"Cats have supersonic hearing\",\"length\":28},{\"fact\":\"Female cats are polyestrous\",\"length\":28},{\"fact\":\"A form of AIDS exists in cats.\",\"length\":30},{\"fact\":\"Female felines are \\\\superfecund\",\"length\":31},{\"fact\":\"Milk can give some cats diarrhea.\",\"length\":33},{\"fact\":\"A group of cats is called a clowder.\",\"length\":36}],\"first_page_url\":\"https:\\/\\/catfact.ninja\\/facts?page=1\",\"from\":1,\"last_page\":4,\"last_page_url\":\"https:\\/\\/catfact.ninja\\/facts?page=4\",\"links\":[{\"url\":null,\"label\":\"Previous\",\"active\":false},{\"url\":\"https:\\/\\/catfact.ninja\\/facts?page=1\",\"label\":\"1\",\"active\":true},{\"url\":\"https:\\/\\/catfact.ninja\\/facts?page=2\",\"label\":\"2\",\"active\":false},{\"url\":\"https:\\/\\/catfact.ninja\\/facts?page=3\",\"label\":\"3\",\"active\":false},{\"url\":\"https:\\/\\/catfact.ninja\\/facts?page=4\",\"label\":\"4\",\"active\":false},{\"url\":\"https:\\/\\/catfact.ninja\\/facts?page=2\",\"label\":\"Next\",\"active\":false}],\"next_page_url\":\"https:\\/\\/catfact.ninja\\/facts?page=2\",\"path\":\"https:\\/\\/catfact.ninja\\/facts\",\"per_page\":10,\"prev_page_url\":null,\"to\":10,\"total\":33} <class 'requests.models.Response'>\n"
     ]
    }
   ],
   "source": [
    "print(response.text, type(response))"
   ]
  },
  {
   "cell_type": "code",
   "execution_count": null,
   "id": "5569c687",
   "metadata": {},
   "outputs": [],
   "source": [
    "\n"
   ]
  }
 ],
 "metadata": {
  "kernelspec": {
   "display_name": "venv",
   "language": "python",
   "name": "python3"
  },
  "language_info": {
   "codemirror_mode": {
    "name": "ipython",
    "version": 3
   },
   "file_extension": ".py",
   "mimetype": "text/x-python",
   "name": "python",
   "nbconvert_exporter": "python",
   "pygments_lexer": "ipython3",
   "version": "3.12.10"
  }
 },
 "nbformat": 4,
 "nbformat_minor": 5
}
