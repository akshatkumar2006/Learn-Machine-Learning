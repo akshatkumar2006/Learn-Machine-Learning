{
 "cells": [
  {
   "cell_type": "code",
   "execution_count": 1,
   "id": "69ce7661",
   "metadata": {},
   "outputs": [
    {
     "name": "stdout",
     "output_type": "stream",
     "text": [
      "1.0\n",
      "1\n",
      "1.0\n",
      "2\n",
      "0.3333333333333333\n",
      "3\n",
      "Error: Division by zero is not allowed\n",
      "4\n",
      "Error: Invalid input. Please enter a valid number.\n",
      "5\n"
     ]
    }
   ],
   "source": [
    "i = 1\n",
    "while i <= 5:\n",
    "    try:\n",
    "        a = int(input())\n",
    "        b = int(input())\n",
    "        print(a/b)\n",
    "    except ZeroDivisionError:\n",
    "        print(\"Error: Division by zero is not allowed\")\n",
    "    except ValueError:\n",
    "        print(\"Error: Invalid input. Please enter a valid number.\")\n",
    "    except Exception as e:\n",
    "        print(\"An error occurred: \", str(e))\n",
    "\n",
    "    print(i)\n",
    "    i+=1"
   ]
  },
  {
   "cell_type": "code",
   "execution_count": 2,
   "id": "e5bafebf",
   "metadata": {},
   "outputs": [
    {
     "name": "stdout",
     "output_type": "stream",
     "text": [
      "Help on class Exception in module builtins:\n",
      "\n",
      "class Exception(BaseException)\n",
      " |  Common base class for all non-exit exceptions.\n",
      " |\n",
      " |  Method resolution order:\n",
      " |      Exception\n",
      " |      BaseException\n",
      " |      object\n",
      " |\n",
      " |  Built-in subclasses:\n",
      " |      ArithmeticError\n",
      " |      AssertionError\n",
      " |      AttributeError\n",
      " |      BufferError\n",
      " |      ... and 16 other subclasses\n",
      " |\n",
      " |  Methods defined here:\n",
      " |\n",
      " |  __init__(self, /, *args, **kwargs)\n",
      " |      Initialize self.  See help(type(self)) for accurate signature.\n",
      " |\n",
      " |  ----------------------------------------------------------------------\n",
      " |  Static methods defined here:\n",
      " |\n",
      " |  __new__(*args, **kwargs)\n",
      " |      Create and return a new object.  See help(type) for accurate signature.\n",
      " |\n",
      " |  ----------------------------------------------------------------------\n",
      " |  Methods inherited from BaseException:\n",
      " |\n",
      " |  __getattribute__(self, name, /)\n",
      " |      Return getattr(self, name).\n",
      " |\n",
      " |  __reduce__(...)\n",
      " |      Helper for pickle.\n",
      " |\n",
      " |  __repr__(self, /)\n",
      " |      Return repr(self).\n",
      " |\n",
      " |  __setstate__(...)\n",
      " |\n",
      " |  __str__(self, /)\n",
      " |      Return str(self).\n",
      " |\n",
      " |  add_note(...)\n",
      " |      Exception.add_note(note) --\n",
      " |      add a note to the exception\n",
      " |\n",
      " |  with_traceback(...)\n",
      " |      Exception.with_traceback(tb) --\n",
      " |      set self.__traceback__ to tb and return self.\n",
      " |\n",
      " |  ----------------------------------------------------------------------\n",
      " |  Data descriptors inherited from BaseException:\n",
      " |\n",
      " |  __cause__\n",
      " |      exception cause\n",
      " |\n",
      " |  __context__\n",
      " |      exception context\n",
      " |\n",
      " |  __dict__\n",
      " |\n",
      " |  __suppress_context__\n",
      " |\n",
      " |  __traceback__\n",
      " |\n",
      " |  args\n",
      "\n"
     ]
    }
   ],
   "source": [
    "help(Exception)"
   ]
  },
  {
   "cell_type": "code",
   "execution_count": 21,
   "id": "084b74fc",
   "metadata": {},
   "outputs": [],
   "source": [
    "def fun(a,b):\n",
    "    ''' \n",
    "    This function takes two arguments a and b and returns their sum.\n",
    "    '''\n",
    "    print('In fun')\n",
    "    # try:\n",
    "    if b != 0:\n",
    "        return a/b\n",
    "    else:\n",
    "        raise Exception(\"Error: Division by zero is not allowed\")\n",
    "    # except:\n",
    "    #     print(\"An error occurred: b should be non zero\")\n",
    "    print('out fn')"
   ]
  },
  {
   "cell_type": "code",
   "execution_count": 22,
   "id": "f12cfcd6",
   "metadata": {},
   "outputs": [
    {
     "name": "stdout",
     "output_type": "stream",
     "text": [
      "hi\n",
      "In fun\n",
      "Error:  Error: Division by zero is not allowed\n",
      "bye\n"
     ]
    }
   ],
   "source": [
    "print('hi')\n",
    "try:\n",
    "    a = fun(100,0)\n",
    "    print('div: ',  a)\n",
    "except Exception as e:\n",
    "    print('Error: ', str(e))\n",
    "print('bye')"
   ]
  },
  {
   "cell_type": "code",
   "execution_count": null,
   "id": "2b9b1f4d",
   "metadata": {},
   "outputs": [],
   "source": [
    "# custom exception \n",
    "class InvalidInputError(Exception):\n",
    "    \"\"\"Raised when the input is invalid.\"\"\"\n",
    "    pass"
   ]
  },
  {
   "cell_type": "code",
   "execution_count": 24,
   "id": "40c66c4c",
   "metadata": {},
   "outputs": [
    {
     "name": "stdout",
     "output_type": "stream",
     "text": [
      "hi\n",
      "In fun\n",
      "Error: Division by zero is not allowed\n",
      "Traceback (most recent call last):\n",
      "  File \"C:\\Users\\Hp\\AppData\\Local\\Temp\\ipykernel_10460\\2924027244.py\", line 4, in <module>\n",
      "    fun(-10, 0)\n",
      "  File \"C:\\Users\\Hp\\AppData\\Local\\Temp\\ipykernel_10460\\755059970.py\", line 10, in fun\n",
      "    raise Exception(\"Error: Division by zero is not allowed\")\n",
      "Exception: Error: Division by zero is not allowed\n",
      "\n"
     ]
    }
   ],
   "source": [
    "import traceback as tb\n",
    "try:\n",
    "    print('hi')\n",
    "    fun(-10, 0)\n",
    "    print('bye')\n",
    "except Exception as e:\n",
    "    print(e.args[0])\n",
    "    print(tb.format_exc())"
   ]
  }
 ],
 "metadata": {
  "kernelspec": {
   "display_name": "venv",
   "language": "python",
   "name": "python3"
  },
  "language_info": {
   "codemirror_mode": {
    "name": "ipython",
    "version": 3
   },
   "file_extension": ".py",
   "mimetype": "text/x-python",
   "name": "python",
   "nbconvert_exporter": "python",
   "pygments_lexer": "ipython3",
   "version": "3.12.10"
  }
 },
 "nbformat": 4,
 "nbformat_minor": 5
}
