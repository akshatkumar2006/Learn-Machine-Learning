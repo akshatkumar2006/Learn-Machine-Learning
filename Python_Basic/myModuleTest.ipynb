{
 "cells": [
  {
   "cell_type": "code",
   "execution_count": null,
   "id": "f1635f44",
   "metadata": {},
   "outputs": [],
   "source": [
    "# import myModule\n",
    "import myModule as mm\n",
    "# from myModule import a\n",
    "# from myModule import *"
   ]
  },
  {
   "cell_type": "code",
   "execution_count": 8,
   "id": "f2f98d2d",
   "metadata": {},
   "outputs": [
    {
     "name": "stdout",
     "output_type": "stream",
     "text": [
      "10\n",
      "20\n",
      "<myModule.TestClass object at 0x00000240B725BE90>\n",
      "<function test_function at 0x00000240B713C540>\n",
      "test function result: 30\n"
     ]
    }
   ],
   "source": [
    "print(mm.a)\n",
    "print(mm.b)\n",
    "print(mm.TestClass())\n",
    "print(mm.test_function)\n",
    "print(mm.test_function())\n",
    "# print(a)"
   ]
  },
  {
   "cell_type": "code",
   "execution_count": 9,
   "id": "b7d7a60a",
   "metadata": {},
   "outputs": [
    {
     "data": {
      "text/plain": [
       "'myModule'"
      ]
     },
     "execution_count": 9,
     "metadata": {},
     "output_type": "execute_result"
    }
   ],
   "source": [
    "mm.__name__"
   ]
  }
 ],
 "metadata": {
  "kernelspec": {
   "display_name": "venv",
   "language": "python",
   "name": "python3"
  },
  "language_info": {
   "codemirror_mode": {
    "name": "ipython",
    "version": 3
   },
   "file_extension": ".py",
   "mimetype": "text/x-python",
   "name": "python",
   "nbconvert_exporter": "python",
   "pygments_lexer": "ipython3",
   "version": "3.12.10"
  }
 },
 "nbformat": 4,
 "nbformat_minor": 5
}
