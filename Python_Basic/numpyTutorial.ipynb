{
 "cells": [
  {
   "cell_type": "markdown",
   "id": "c3134d7d",
   "metadata": {},
   "source": [
    "<div style=\"font-size: 10px\">\n",
    "\n",
    "# 🧠 NumPy Interactive Revision README\n",
    "\n",
    ">NumPy (Numerical Python) is the foundational package for numerical computing in Python. It provides high-performance multidimensional arrays and tools for working with them. It is written in C/C++ to make internal operations as efficient(fast) as possible.\n",
    "\n",
    "---\n",
    "\n",
    "## ✅ Import NumPy\n",
    "```python\n",
    "import numpy as np\n",
    "```\n",
    "\n",
    "---\n",
    "\n",
    "## 📂 1. Array Creation\n",
    "```python\n",
    "np.array([1, 2, 3])            # From list\n",
    "np.zeros((2, 3))               # 2x3 matrix of 0s\n",
    "np.ones((3,))                  # Vector of 1s\n",
    "np.full((2, 2), 9)             # 2x2 matrix filled with 9\n",
    "np.eye(3)                      # 3x3 identity matrix\n",
    "np.arange(1, 10, 2)            # [1 3 5 7 9]\n",
    "np.linspace(0, 1, 5)           # [0. , 0.25, 0.5, 0.75, 1. ]\n",
    "np.random.rand(2, 2)           # Random in [0,1)\n",
    "np.random.randn(2)             # Std normal values\n",
    "np.random.randint(0, 10, 5)    # Random integers\n",
    "```\n",
    "\n",
    "---\n",
    "\n",
    "## 📊 2. Array Attributes\n",
    "```python\n",
    "a = np.array([[1, 2, 3], [4, 5, 6]])\n",
    "a.shape      # (2, 3)\n",
    "a.ndim       # 2\n",
    "a.size       # 6\n",
    "a.dtype      # dtype('int64')\n",
    "a.itemsize   # 8 bytes per item\n",
    "a.nbytes     # Total 48 bytes\n",
    "```\n",
    "\n",
    "---\n",
    "\n",
    "## 🔁 3. Reshaping & Flattening\n",
    "```python\n",
    "a.reshape((3, 2))         # Change shape\n",
    "np.ravel(a)               # Flatten (view)\n",
    "a.flatten()               # Flatten (copy)\n",
    "a.T                       # Transpose\n",
    "np.reshape(a, (-1,))      # Auto reshape\n",
    "```\n",
    "\n",
    "---\n",
    "\n",
    "## 📂 4. Indexing, Slicing, Iterating\n",
    "```python\n",
    "a[0, 1]                   # Access\n",
    "b = a[:, 1]               # Column\n",
    "c = a[1, :]               # Row\n",
    "a[::2]                    # Every 2nd row\n",
    "np.where(a > 3)           # Indices where condition met\n",
    "np.take(a, [1, 4])        # Indexed elements\n",
    "np.put(a, [1, 4], 99)     # Replace values\n",
    "```\n",
    "\n",
    "---\n",
    "\n",
    "## ➕ 5. Mathematical Operations\n",
    "```python\n",
    "x + y\n",
    "np.add(x, y)\n",
    "np.subtract(x, y)\n",
    "np.multiply(x, y)\n",
    "np.divide(x, y)\n",
    "np.power(x, y)\n",
    "np.mod(x, y)\n",
    "np.abs(x)\n",
    "np.round(x, 2)\n",
    "```\n",
    "\n",
    "---\n",
    "\n",
    "## 📊 6. Aggregations & Stats\n",
    "```python\n",
    "np.sum(a)\n",
    "np.mean(a)\n",
    "np.median(a)\n",
    "np.std(a)\n",
    "np.var(a)\n",
    "np.min(a), np.max(a)\n",
    "np.argmin(a), np.argmax(a)\n",
    "np.percentile(a, 50)\n",
    "np.cumsum(a)\n",
    "np.cumprod(a)\n",
    "```\n",
    "\n",
    "---\n",
    "\n",
    "## 🔣 7. Logical Operations\n",
    "```python\n",
    "np.all(a > 0)\n",
    "np.any(a < 0)\n",
    "np.isfinite(a)\n",
    "np.isnan(a)\n",
    "np.where(a > 2, a, 0)\n",
    "```\n",
    "\n",
    "---\n",
    "\n",
    "## 📚 8. Linear Algebra (np.linalg)\n",
    "```python\n",
    "np.dot(A, B)\n",
    "np.matmul(A, B)\n",
    "np.linalg.inv(A)\n",
    "np.linalg.det(A)\n",
    "np.linalg.eig(A)\n",
    "np.linalg.solve(A, b)\n",
    "np.linalg.norm(A)\n",
    "```\n",
    "\n",
    "---\n",
    "\n",
    "## 🔗 9. Stacking & Splitting\n",
    "```python\n",
    "np.concatenate([a, b], axis=0)\n",
    "np.stack([a, b], axis=1)\n",
    "np.hstack((a, b))\n",
    "np.vstack((a, b))\n",
    "np.split(a, 2)\n",
    "np.hsplit(a, 2)\n",
    "np.vsplit(a, 2)\n",
    "```\n",
    "\n",
    "---\n",
    "\n",
    "## 🧼 10. Cleaning, Sorting\n",
    "```python\n",
    "np.sort(a)\n",
    "np.argsort(a)\n",
    "np.unique(a)\n",
    "np.trim_zeros([0, 0, 1, 2, 0])\n",
    "np.delete(a, [1, 3])\n",
    "```\n",
    "\n",
    "---\n",
    "\n",
    "## 🔄 11. Broadcasting & Vectorization\n",
    "```python\n",
    "a = np.array([1, 2, 3])\n",
    "b = np.array([[10], [20], [30]])\n",
    "a + b    # Broadcasting example\n",
    "```\n",
    "\n",
    "---\n",
    "\n",
    "## 🧪 12. Random Module\n",
    "```python\n",
    "np.random.rand(3)\n",
    "np.random.randn(2, 2)\n",
    "np.random.randint(1, 10, (2, 3))\n",
    "np.random.choice([1, 2, 3, 4])\n",
    "np.random.seed(42)        # Reproducible output\n",
    "```\n",
    "\n",
    "---\n",
    "\n",
    "## 🛠️ 13. Utility Functions\n",
    "```python\n",
    "np.copy(a)\n",
    "np.clip(a, 0, 10)\n",
    "np.tile(a, (2, 1))\n",
    "np.repeat(a, 2)\n",
    "np.round(a, 2)\n",
    "```\n",
    "\n",
    "---\n",
    "\n",
    "## 📦 14. Saving and Loading\n",
    "```python\n",
    "np.save('array.npy', a)\n",
    "a = np.load('array.npy')\n",
    "np.savetxt('array.csv', a, delimiter=',')\n",
    "a = np.loadtxt('array.csv', delimiter=',')\n",
    "```\n",
    "\n",
    "---\n",
    "\n",
    "## 🗒️ Notes\n",
    "- Use `dtype=np.float32/int32` in creation for performance.\n",
    "- Always set `random.seed()` for reproducibility in ML.\n",
    "- `np.newaxis` can help in reshaping dimensions easily.\n",
    "\n",
    "---\n",
    "\n",
    "> 💡 **Tip**: Practice writing your own matrix functions using only NumPy to build deeper mastery.\n",
    "\n",
    "</div>\n"
   ]
  },
  {
   "cell_type": "code",
   "execution_count": 3,
   "id": "0fee05d1",
   "metadata": {},
   "outputs": [
    {
     "name": "stdout",
     "output_type": "stream",
     "text": [
      "2.3.1\n"
     ]
    }
   ],
   "source": [
    "import numpy as np\n",
    "print(np.__version__)"
   ]
  },
  {
   "cell_type": "code",
   "execution_count": 4,
   "id": "a2111b49",
   "metadata": {},
   "outputs": [
    {
     "name": "stdout",
     "output_type": "stream",
     "text": [
      "[ 1  2  3  4  5  6  7  8  9 10] <class 'numpy.ndarray'>\n"
     ]
    }
   ],
   "source": [
    "l1 = [1, 2, 3, 4, 5, 6, 7, 8, 9, 10]\n",
    "arr1 = np.array(l1)\n",
    "print(arr1, type(arr1))"
   ]
  },
  {
   "cell_type": "code",
   "execution_count": 10,
   "id": "d3364fc1",
   "metadata": {},
   "outputs": [
    {
     "data": {
      "text/plain": [
       "np.int64(7)"
      ]
     },
     "execution_count": 10,
     "metadata": {},
     "output_type": "execute_result"
    }
   ],
   "source": [
    "l2 = [[1, 2, 3], [4, 5, 6], [7, 8, 9]]\n",
    "arr2 = np.array(l2)\n",
    "arr2[2,0]\n",
    "arr2[-1, 0] # last row, first column"
   ]
  },
  {
   "cell_type": "code",
   "execution_count": 16,
   "id": "ec3e9002",
   "metadata": {},
   "outputs": [
    {
     "name": "stdout",
     "output_type": "stream",
     "text": [
      "(10,)\n",
      "(3, 3)\n",
      "1\n",
      "2\n"
     ]
    }
   ],
   "source": [
    "print(arr1.shape)\n",
    "print(arr2.shape)\n",
    "print(arr1.ndim)\n",
    "print(arr2.ndim)"
   ]
  },
  {
   "cell_type": "code",
   "execution_count": 23,
   "id": "7e84f9c2",
   "metadata": {},
   "outputs": [
    {
     "name": "stdout",
     "output_type": "stream",
     "text": [
      "[list([1, 2, 3]) list([4, 5])] <class 'numpy.ndarray'>\n",
      "(2,)\n",
      "1\n",
      "[1, 2, 3] <class 'list'>\n",
      "2 <class 'int'>\n"
     ]
    }
   ],
   "source": [
    "# zagged array concept\n",
    "arr3 = np.array([[1, 2, 3], [4, 5]], dtype = 'O')\n",
    "print(arr3, type(arr3))\n",
    "print(arr3.shape)\n",
    "print(arr3.ndim)\n",
    "print(arr3[0], type(arr3[0]))\n",
    "print(arr3[0][1], type(arr3[0][1]))"
   ]
  },
  {
   "cell_type": "code",
   "execution_count": 29,
   "id": "f8723e56",
   "metadata": {},
   "outputs": [
    {
     "name": "stdout",
     "output_type": "stream",
     "text": [
      "[ 1.  2.  3.  4.  5.  6.  7.  8.  9. 10.]\n",
      "[1.        1.3333334 1.6666666 2.       ]\n",
      "[[[1. 1.]\n",
      "  [1. 1.]]]\n",
      "[[[0. 0.]\n",
      "  [0. 0.]]]\n",
      "[[1. 0. 0.]\n",
      " [0. 1. 0.]\n",
      " [0. 0. 1.]]\n",
      "[[1 0 0 0]\n",
      " [0 2 0 0]\n",
      " [0 0 3 0]\n",
      " [0 0 0 4]]\n"
     ]
    }
   ],
   "source": [
    "# arange, linspace, ones, zeroes, eye, diag\n",
    "print(np.arange(1, 11, 1, dtype = 'f4'))\n",
    "print(np.linspace(1, 2, 4, dtype = 'f4'))\n",
    "shape = [1, 2, 2]\n",
    "print(np.ones(shape, dtype = 'f4'))\n",
    "print(np.zeros(shape, dtype = 'f4'))\n",
    "print(np.eye(3, dtype = 'f4'))\n",
    "print(np.diag([1, 2, 3, 4]))"
   ]
  }
 ],
 "metadata": {
  "kernelspec": {
   "display_name": "venv",
   "language": "python",
   "name": "python3"
  },
  "language_info": {
   "codemirror_mode": {
    "name": "ipython",
    "version": 3
   },
   "file_extension": ".py",
   "mimetype": "text/x-python",
   "name": "python",
   "nbconvert_exporter": "python",
   "pygments_lexer": "ipython3",
   "version": "3.12.10"
  }
 },
 "nbformat": 4,
 "nbformat_minor": 5
}
