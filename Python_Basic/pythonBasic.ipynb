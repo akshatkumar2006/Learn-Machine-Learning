{
 "cells": [
  {
   "cell_type": "code",
   "execution_count": 2,
   "id": "7db1c51b",
   "metadata": {},
   "outputs": [],
   "source": [
    "class Dog:\n",
    "    tail = 1\n",
    "    tricks = []\n",
    "    def __init__(self, name = 'chimkandi', breed = 'bull-dog'):\n",
    "        self.name = name\n",
    "        self.breed = breed\n",
    "    def bark(self):\n",
    "        print(\"Woof!\")"
   ]
  },
  {
   "cell_type": "code",
   "execution_count": 3,
   "id": "b106274f",
   "metadata": {},
   "outputs": [
    {
     "name": "stdout",
     "output_type": "stream",
     "text": [
      "Shera\n",
      "Woof!\n"
     ]
    }
   ],
   "source": [
    "dog = Dog(\"Shera\", \"German-Shepard\")\n",
    "print(dog.name)\n",
    "dog.bark()"
   ]
  },
  {
   "cell_type": "code",
   "execution_count": 4,
   "id": "b19bc2a8",
   "metadata": {},
   "outputs": [
    {
     "name": "stdout",
     "output_type": "stream",
     "text": [
      "<__main__.Dog object at 0x000001F3B94268D0>\n"
     ]
    },
    {
     "data": {
      "text/plain": [
       "1"
      ]
     },
     "execution_count": 4,
     "metadata": {},
     "output_type": "execute_result"
    }
   ],
   "source": [
    "print(dog)\n",
    "dog.tail"
   ]
  },
  {
   "cell_type": "code",
   "execution_count": 5,
   "id": "b63edcf6",
   "metadata": {},
   "outputs": [],
   "source": [
    "dog.tricks.append('handshake')\n",
    "Dog.tricks.append('Sit')"
   ]
  },
  {
   "cell_type": "code",
   "execution_count": 6,
   "id": "a435819e",
   "metadata": {},
   "outputs": [
    {
     "data": {
      "text/plain": [
       "['handshake', 'Sit']"
      ]
     },
     "execution_count": 6,
     "metadata": {},
     "output_type": "execute_result"
    }
   ],
   "source": [
    "dog.tricks"
   ]
  },
  {
   "cell_type": "code",
   "execution_count": 11,
   "id": "9f56c6a1",
   "metadata": {},
   "outputs": [
    {
     "data": {
      "text/plain": [
       "100"
      ]
     },
     "execution_count": 11,
     "metadata": {},
     "output_type": "execute_result"
    }
   ],
   "source": [
    "class Car:\n",
    "    def __init__(self, model, speed, milage):\n",
    "        self.model = model\n",
    "        self.speed = speed\n",
    "        self.milage = milage\n",
    "    \n",
    "    def __gt__(self, other):\n",
    "        return self.speed if self.speed > other.speed else other.speed\n",
    "\n",
    "c1 = Car(\"nano\", 100, 100)\n",
    "c2 = Car(\"nano\", 80, 120)\n",
    "c1>c2"
   ]
  },
  {
   "cell_type": "code",
   "execution_count": 15,
   "id": "11a6d96f",
   "metadata": {},
   "outputs": [
    {
     "data": {
      "text/plain": [
       "[__main__.Car, object]"
      ]
     },
     "execution_count": 15,
     "metadata": {},
     "output_type": "execute_result"
    }
   ],
   "source": [
    "str = '''\n",
    "what is the mro() method in python?\n",
    "The mro() method in Python returns a list of the method resolution order of the class. It\n",
    "returns a list of tuples where each tuple contains the class name and the class itself.\n",
    "The mro() method is used to determine the order in which the class's methods are called.\n",
    "'''\n",
    "Car.mro() # mro : method resolution order"
   ]
  }
 ],
 "metadata": {
  "kernelspec": {
   "display_name": "venv",
   "language": "python",
   "name": "python3"
  },
  "language_info": {
   "codemirror_mode": {
    "name": "ipython",
    "version": 3
   },
   "file_extension": ".py",
   "mimetype": "text/x-python",
   "name": "python",
   "nbconvert_exporter": "python",
   "pygments_lexer": "ipython3",
   "version": "3.12.10"
  }
 },
 "nbformat": 4,
 "nbformat_minor": 5
}
