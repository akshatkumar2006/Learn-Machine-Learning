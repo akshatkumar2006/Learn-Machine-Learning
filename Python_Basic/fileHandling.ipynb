{
 "cells": [
  {
   "cell_type": "code",
   "execution_count": 1,
   "id": "63787524",
   "metadata": {},
   "outputs": [],
   "source": [
    "l1 = ['s1', 's2', 's3', 's4', 's5']\n",
    "with open('question.txt', 'w') as f:\n",
    "    for i in range(5):\n",
    "        f.write(l1[i] + '\\n')"
   ]
  },
  {
   "cell_type": "code",
   "execution_count": 5,
   "id": "96a54d60",
   "metadata": {},
   "outputs": [
    {
     "data": {
      "text/plain": [
       "['s10', 's20', 's30', 's40', 's50']"
      ]
     },
     "execution_count": 5,
     "metadata": {},
     "output_type": "execute_result"
    }
   ],
   "source": [
    "l2 = []\n",
    "with open ('question.txt', 'r') as f:\n",
    "    for line in f:\n",
    "        l2.append(line[:-1] + '0')\n",
    "l2"
   ]
  }
 ],
 "metadata": {
  "kernelspec": {
   "display_name": "venv",
   "language": "python",
   "name": "python3"
  },
  "language_info": {
   "codemirror_mode": {
    "name": "ipython",
    "version": 3
   },
   "file_extension": ".py",
   "mimetype": "text/x-python",
   "name": "python",
   "nbconvert_exporter": "python",
   "pygments_lexer": "ipython3",
   "version": "3.12.10"
  }
 },
 "nbformat": 4,
 "nbformat_minor": 5
}
