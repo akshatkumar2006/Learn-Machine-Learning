{
 "cells": [
  {
   "cell_type": "code",
   "execution_count": 19,
   "id": "ccb9c443",
   "metadata": {},
   "outputs": [],
   "source": [
    "class Car:\n",
    "    def __init__(self, model : str, speed : int, milage : int):\n",
    "        self.model = model\n",
    "        self.speed = speed\n",
    "        self.milage = milage\n",
    "    def __repr__(self):\n",
    "        return f\"Car(model='{self.model}', speed={self.speed}, milage={self.milage})\""
   ]
  },
  {
   "cell_type": "code",
   "execution_count": 20,
   "id": "f93a5d4a",
   "metadata": {},
   "outputs": [],
   "source": [
    "c1 = Car('Nano', 100, 20)\n",
    "c2 = Car('Alto', 120, 18)\n",
    "c3 = Car('Brezza', 170, 15)\n",
    "c4 = Car('Swift', 160, 14)"
   ]
  },
  {
   "cell_type": "code",
   "execution_count": 21,
   "id": "55040369",
   "metadata": {},
   "outputs": [],
   "source": [
    "cars = [c1, c2, c3, c4]"
   ]
  },
  {
   "cell_type": "code",
   "execution_count": 22,
   "id": "58a285d5",
   "metadata": {},
   "outputs": [],
   "source": [
    "sorted_car = sorted(cars, key = lambda x: (x.speed, x.milage))"
   ]
  },
  {
   "cell_type": "code",
   "execution_count": 23,
   "id": "24189115",
   "metadata": {},
   "outputs": [
    {
     "data": {
      "text/plain": [
       "\"[Car(model='Nano', speed=100, milage=20), Car(model='Alto', speed=120, milage=18), Car(model='Swift', speed=160, milage=14), Car(model='Brezza', speed=170, milage=15)]\""
      ]
     },
     "execution_count": 23,
     "metadata": {},
     "output_type": "execute_result"
    }
   ],
   "source": [
    "sorted_car.__repr__()"
   ]
  },
  {
   "cell_type": "code",
   "execution_count": 24,
   "id": "af0038f1",
   "metadata": {},
   "outputs": [
    {
     "name": "stdout",
     "output_type": "stream",
     "text": [
      "[1]\n",
      "[1, 2]\n"
     ]
    }
   ],
   "source": [
    "def func(a, b=[]):\n",
    "    b.append(a)\n",
    "    return b\n",
    "\n",
    "print(func(1))\n",
    "print(func(2))"
   ]
  },
  {
   "cell_type": "code",
   "execution_count": 25,
   "id": "67506a80",
   "metadata": {},
   "outputs": [
    {
     "name": "stdout",
     "output_type": "stream",
     "text": [
      "2\n"
     ]
    }
   ],
   "source": [
    "class A:\n",
    "    def __init__(self):\n",
    "        self.x = 1\n",
    "class B(A):\n",
    "    def __init__(self):\n",
    "        super().__init__()\n",
    "        self.x = 2\n",
    "\n",
    "b = B()\n",
    "print(b.x)"
   ]
  },
  {
   "cell_type": "code",
   "execution_count": 26,
   "id": "20e91ee0",
   "metadata": {},
   "outputs": [
    {
     "data": {
      "text/plain": [
       "False"
      ]
     },
     "execution_count": 26,
     "metadata": {},
     "output_type": "execute_result"
    }
   ],
   "source": [
    "all([0, 1, 2])"
   ]
  },
  {
   "cell_type": "code",
   "execution_count": 27,
   "id": "d5fb4d31",
   "metadata": {},
   "outputs": [
    {
     "name": "stdout",
     "output_type": "stream",
     "text": [
      "6\n"
     ]
    }
   ],
   "source": [
    "def foo(x, y, /, z):\n",
    "    return x + y + z\n",
    "\n",
    "print(foo(1, 2, z=3))"
   ]
  }
 ],
 "metadata": {
  "kernelspec": {
   "display_name": "venv",
   "language": "python",
   "name": "python3"
  },
  "language_info": {
   "codemirror_mode": {
    "name": "ipython",
    "version": 3
   },
   "file_extension": ".py",
   "mimetype": "text/x-python",
   "name": "python",
   "nbconvert_exporter": "python",
   "pygments_lexer": "ipython3",
   "version": "3.12.10"
  }
 },
 "nbformat": 4,
 "nbformat_minor": 5
}
